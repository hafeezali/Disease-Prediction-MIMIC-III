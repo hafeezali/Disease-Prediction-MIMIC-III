{
 "cells": [
  {
   "cell_type": "code",
   "execution_count": null,
   "metadata": {},
   "outputs": [],
   "source": [
    "import pandas as pd\n",
    "import numpy as np\n",
    "import math"
   ]
  },
  {
   "cell_type": "code",
   "execution_count": null,
   "metadata": {},
   "outputs": [],
   "source": [
    "# Handling DIAGNOSES_ICD.csv\n",
    "df = pd.read_csv(\"DIAGNOSES_ICD.csv\")\n",
    "df.drop(axis=1, labels=['ROW_ID'], inplace=True)\n",
    "df.dropna(subset=['HADM_ID', 'SUBJECT_ID'], inplace=True)\n",
    "df['SEQ_NUM'] = df['SEQ_NUM'].astype(str)\n",
    "df['ICD9_CODE'] = df['ICD9_CODE'].astype(str)\n",
    "merge = lambda a: \",\".join(a) \n",
    "df = df.groupby(['SUBJECT_ID','HADM_ID']).agg({'SEQ_NUM': merge, 'ICD9_CODE': merge}).reset_index()\n",
    "df.drop_duplicates(subset='SUBJECT_ID', keep=\"first\", inplace=True)\n",
    "diag_icd_df = df\n",
    "df = None\n",
    "diag_icd_df = diag_icd_df.sort_values(['HADM_ID'], ascending=True).reset_index()\n",
    "print(diag_icd_df)"
   ]
  },
  {
   "cell_type": "code",
   "execution_count": null,
   "metadata": {
    "scrolled": true
   },
   "outputs": [],
   "source": [
    "# Handling LABEVENTS.csv\n",
    "fields = ['SUBJECT_ID','HADM_ID','ITEMID','VALUENUM']\n",
    "df = pd.read_csv(\"LABEVENTS.csv\",error_bad_lines=False,warn_bad_lines=True,encoding = \"iso-8859-1\",usecols=fields)\n",
    "lab_events_df = df\n",
    "lab_events_df['HADM_ID'] = pd.to_numeric(lab_events_df['HADM_ID'], errors='coerce')\n",
    "lab_events_df = lab_events_df.dropna(subset=['HADM_ID'])"
   ]
  },
  {
   "cell_type": "code",
   "execution_count": null,
   "metadata": {},
   "outputs": [],
   "source": [
    "lab_events_df = lab_events_df.sort_values(['HADM_ID']).reset_index()\n",
    "print(lab_events_df)"
   ]
  },
  {
   "cell_type": "code",
   "execution_count": null,
   "metadata": {
    "scrolled": true
   },
   "outputs": [],
   "source": [
    "# Handling D_LABITEMS.csv\n",
    "\n",
    "fields = ['ITEMID','LABEL']\n",
    "df = pd.read_csv(\"D_LABITEMS.csv\",error_bad_lines=False,warn_bad_lines=True,encoding = \"iso-8859-1\",usecols=fields)\n",
    "labitems_df = df\n",
    "labitems_df['ITEMID'] = pd.to_numeric(labitems_df['ITEMID'], errors='coerce')\n",
    "labitems_df = labitems_df.dropna(subset=['ITEMID'])\n",
    "labitems_df = labitems_df.sort_values(['ITEMID'], ascending=True).reset_index()\n",
    "print(labitems_df)"
   ]
  },
  {
   "cell_type": "code",
   "execution_count": null,
   "metadata": {},
   "outputs": [],
   "source": [
    "# Creating final.csv\n",
    "for itemid in labitems_df['ITEMID']:\n",
    "    diag_icd_df[itemid]=0"
   ]
  },
  {
   "cell_type": "code",
   "execution_count": null,
   "metadata": {},
   "outputs": [],
   "source": [
    "print(diag_icd_df)"
   ]
  },
  {
   "cell_type": "code",
   "execution_count": null,
   "metadata": {},
   "outputs": [],
   "source": [
    "j=0\n",
    "for i in range(1000):\n",
    "    hadmId = diag_icd_df['HADM_ID'][i]\n",
    "    while j < len(lab_events_df) and lab_events_df['HADM_ID'][j] <= hadmId:\n",
    "        if lab_events_df['HADM_ID'][j] == hadmId:\n",
    "            itemId = lab_events_df['ITEMID'][j]\n",
    "            value = lab_events_df['VALUENUM'][j]\n",
    "            diag_icd_df[itemId][i] = value\n",
    "        j = j+1\n",
    "    print(i)"
   ]
  },
  {
   "cell_type": "code",
   "execution_count": null,
   "metadata": {},
   "outputs": [],
   "source": [
    "print(diag_icd_df)"
   ]
  },
  {
   "cell_type": "code",
   "execution_count": null,
   "metadata": {},
   "outputs": [],
   "source": [
    "diag_icd_df.to_csv(\"final.csv\")"
   ]
  },
  {
   "cell_type": "code",
   "execution_count": null,
   "metadata": {},
   "outputs": [],
   "source": [
    "# Handling fullInputData.csv - 1000 samples from 35,500 records (final.csv)\n",
    "# Select top 1000 records from final.csv to generate fullInputData.csv\n",
    "df = pd.read_csv(\"fullInputData.csv\")\n",
    "df.drop(df.columns[[0,1]], axis=1, inplace=True)\n",
    "full_input_data_df = df"
   ]
  },
  {
   "cell_type": "code",
   "execution_count": null,
   "metadata": {},
   "outputs": [],
   "source": [
    "full_input_data_df.fillna(0)\n",
    "counts = full_input_data_df.astype(bool).sum(axis=0)"
   ]
  },
  {
   "cell_type": "code",
   "execution_count": null,
   "metadata": {},
   "outputs": [],
   "source": [
    "for itemid in labitems_df['ITEMID']:\n",
    "    if counts[str(itemid)] < 700:\n",
    "        full_input_data_df.drop(axis=1, labels=[str(itemid)], inplace=True)"
   ]
  },
  {
   "cell_type": "code",
   "execution_count": null,
   "metadata": {},
   "outputs": [],
   "source": [
    "print(full_input_data_df)"
   ]
  },
  {
   "cell_type": "code",
   "execution_count": null,
   "metadata": {},
   "outputs": [],
   "source": [
    "full_input_data_df.drop(axis=1, labels=['SEQ_NUM'], inplace=True)"
   ]
  },
  {
   "cell_type": "code",
   "execution_count": null,
   "metadata": {},
   "outputs": [],
   "source": [
    "full_input_data_df.rename(columns={'50868': 'Anion Gap', \n",
    "                   '50882': 'Bicarbonate', \n",
    "                   '50893': 'Calcium', \n",
    "                   '50902': 'Chloride', \n",
    "                   '50931': 'Glucose', \n",
    "                   '50960': 'Magnesium',\n",
    "                   '50970': 'Phosphate',\n",
    "                   '50971': 'Potassium',\n",
    "                   '50983': 'Sodium',\n",
    "                   '51006': 'Urea Nitrogen',\n",
    "                   '51221': 'Hematocrit',\n",
    "                   '51222': 'Hemoglobin',\n",
    "                   '51237': 'INR',\n",
    "                   '51244': 'Lymphocytes',\n",
    "                   '51248': 'MCH',\n",
    "                   '51249': 'MCHC',\n",
    "                   '51250': 'MCV',\n",
    "                   '51254': 'Monocytes',\n",
    "                   '51256': 'Neutrophils',\n",
    "                   '51265': 'Platelet Count',\n",
    "                   '51274': 'PT',\n",
    "                   '51275': 'PTT',\n",
    "                   '51277': 'RDW',\n",
    "                   '51279': 'Red Blood Cells',\n",
    "                   '51301': 'White Blood Cells'\n",
    "                  }, inplace=True)"
   ]
  },
  {
   "cell_type": "code",
   "execution_count": null,
   "metadata": {},
   "outputs": [],
   "source": [
    "full_input_data_df = full_input_data_df.replace(0, np.NaN)\n",
    "full_input_data_df.fillna(full_input_data_df.mean(), inplace=True)"
   ]
  },
  {
   "cell_type": "code",
   "execution_count": null,
   "metadata": {},
   "outputs": [],
   "source": [
    "# Convert ICD9_CODE to output\n",
    "def get_label(idc9_Code):\n",
    "    num = int(idc9_Code[:3])\n",
    "    if 1 <= num <= 139:\n",
    "        return 1 #Infectious and Parasitic Diseases\n",
    "    elif 140 <= num <= 239:\n",
    "        return 2 #Neoplasms\n",
    "    elif 240 <= num <= 279:\n",
    "        return 3 #Endocrine, Nutritional, Metabolic, Immunity\n",
    "    elif 280 <= num <= 289:\n",
    "        return 4 #Blood and Blood-Forming Organs\n",
    "    elif 290 <= num <= 319:\n",
    "        return 5 #Mental Disorders\n",
    "    elif 320 <= num <= 389:\n",
    "        return 6 #Nervous System and Sense Organs\n",
    "    elif 390 <= num <= 459:\n",
    "        return 7 #Circulatory System\n",
    "    elif 460 <= num <= 519:\n",
    "        return 8 #Respiratory System\n",
    "    elif 520 <= num <= 579:\n",
    "        return 9 #Digestive System\n",
    "    elif 580 <= num <= 629:\n",
    "        return 10 #Genitourinary System\n",
    "    elif 630 <= num <= 677:\n",
    "        return 11 #Pregnancy, Childbirth, and the Puerperium\n",
    "    elif 680 <= num <= 709:\n",
    "        return 12 #Skin and Subcutaneous Tissue\n",
    "    elif 710 <= num <= 739:\n",
    "        return 13 #Musculoskeletal System and Connective Tissue\n",
    "    elif 740 <= num <= 759:\n",
    "        return 14 #Congenital Anomalies\n",
    "    elif 760 <= num <= 779:\n",
    "        return 15 #Conditions Originating in the Perinatal Period\n",
    "    elif 780 <= num <= 789:\n",
    "        return 16 #Symptoms\n",
    "    elif 790 <= num <= 796:\n",
    "        return 17 #Nonspecific Abnormal Findings\n",
    "    elif 797 <= num <= 799:\n",
    "        return 18 #Ill-defined and Unknown Causes of Morbidity and Mortality\n",
    "    elif 800 <= num <= 999:\n",
    "        return 19 #Injury and Poisoning "
   ]
  },
  {
   "cell_type": "code",
   "execution_count": null,
   "metadata": {},
   "outputs": [],
   "source": [
    "output_classes = []\n",
    "for index, row in full_input_data_df.iterrows():\n",
    "    word_list = str(row['ICD9_CODE']).split(',')\n",
    "    output_class = [0 if (word[0]=='V' or word[0]=='E' or word=='nan')  else get_label(word) for word in word_list]\n",
    "    zz = [0,0,0,0,0,0,0,0,0,0,0,0,0,0,0,0,0,0,0,0]\n",
    "    for i in output_class:\n",
    "        zz[i]=1\n",
    "    output_classes.append(zz)\n",
    "output_classes"
   ]
  },
  {
   "cell_type": "code",
   "execution_count": null,
   "metadata": {},
   "outputs": [],
   "source": [
    "output_classes = np.array(output_classes)\n",
    "\n",
    "dataset = pd.DataFrame({\n",
    "'Supplemental_V_Codes':output_classes[:,0],\n",
    "'Infectious_and_Parasitic_Diseases':output_classes[:,1],\n",
    "'Neoplasms':output_classes[:,2],\n",
    "'Endocrine_Nutritional_Metabolic_Immunity':output_classes[:,3],\n",
    "'Blood_and_Blood_Forming_Organs':output_classes[:,4],\n",
    "'Mental_Disorders':output_classes[:,5],\n",
    "'Nervous_System_and_Sense_Organs':output_classes[:,6],\n",
    "'Circulatory_System':output_classes[:,7],\n",
    "'Respiratory_System':output_classes[:,8],\n",
    "'Digestive_System':output_classes[:,9],\n",
    "'Genitourinary_System':output_classes[:,10],\n",
    "'Pregnancy_Childbirth_and_the_Puerperium':output_classes[:,11],\n",
    "'Skin_and_Subcutaneous_Tissue':output_classes[:,12],\n",
    "'Musculoskeletal_System_and_Connective_Tissue':output_classes[:,13],\n",
    "'Congenital_Anomalies':output_classes[:,14],\n",
    "'Conditions_Originating_in_the_Perinatal_Period':output_classes[:,15],\n",
    "'Symptoms':output_classes[:,16],\n",
    "'Nonspecific_Abnormal_Findings':output_classes[:,17],\n",
    "'Ill_defined_and_Unknown_Causes_of_Morbidity_and_Mortality':output_classes[:,18],\n",
    "'Injury_and_Poisoning':output_classes[:,19]\n",
    "})"
   ]
  },
  {
   "cell_type": "code",
   "execution_count": null,
   "metadata": {},
   "outputs": [],
   "source": [
    "full_input_data_df = full_input_data_df.drop(['ICD9_CODE'],axis=1)"
   ]
  },
  {
   "cell_type": "code",
   "execution_count": null,
   "metadata": {},
   "outputs": [],
   "source": [
    "frames = [full_input_data_df,dataset]\n",
    "\n",
    "final_df = pd.concat(frames,axis=1)\n",
    "final_df.to_csv('ProcessedFinalData.csv',index=False)"
   ]
  },
  {
   "cell_type": "code",
   "execution_count": null,
   "metadata": {},
   "outputs": [],
   "source": [
    "final_df.head()"
   ]
  },
  {
   "cell_type": "code",
   "execution_count": null,
   "metadata": {},
   "outputs": [],
   "source": []
  }
 ],
 "metadata": {
  "kernelspec": {
   "display_name": "Python 3",
   "language": "python",
   "name": "python3"
  },
  "language_info": {
   "codemirror_mode": {
    "name": "ipython",
    "version": 3
   },
   "file_extension": ".py",
   "mimetype": "text/x-python",
   "name": "python",
   "nbconvert_exporter": "python",
   "pygments_lexer": "ipython3",
   "version": "3.5.2"
  }
 },
 "nbformat": 4,
 "nbformat_minor": 2
}
